{
 "cells": [
  {
   "cell_type": "markdown",
   "metadata": {},
   "source": [
    "Consider a special family of Engineers and Doctors. This family has the following rules:\n",
    "\n",
    "Everybody has two children.\n",
    "The first child of an Engineer is an Engineer and the second child is a Doctor.\n",
    "The first child of a Doctor is a Doctor and the second child is an Engineer.\n",
    "All generations of Doctors and Engineers start with an Engineer.\n",
    "We can represent the situation using this diagram:\n",
    "\n",
    "                E\n",
    "           /         \\\n",
    "          E           D\n",
    "        /   \\        /  \\\n",
    "       E     D      D    E\n",
    "      / \\   / \\    / \\   / \\\n",
    "     E   D D   E  D   E E   D\n",
    "     \n",
    "Given the level and position of a person in the ancestor tree above, find the profession of the person.\n",
    "Note: in this tree first child is considered as left child, second - as right.\n",
    "\n",
    "### Example\n",
    "\n",
    "For `level = 3 and pos = 3`, the output should be\n",
    "`findProfession(level, pos) = \"Doctor\"`."
   ]
  },
  {
   "cell_type": "code",
   "execution_count": null,
   "metadata": {},
   "outputs": [],
   "source": [
    "def findProfession(level, pos):\n",
    "    \n",
    "    if level == 1:\n",
    "        return \"Engineer\" #First, \n",
    "    else:\n",
    "        parent = findProfession(level-1, (pos+1) // 2)\n",
    "        \n",
    "        if parent == \"Engineer\" and (pos-1) % 2 == 0:\n",
    "            return \"Engineer\"\n",
    "        elif parent == \"Engineer\" and (pos-1) % 2 == 1:\n",
    "            return \"Doctor\"\n",
    "        elif parent == \"Doctor\" and (pos-1) % 2 == 0:\n",
    "            return \"Doctor\"\n",
    "        elif parent == \"Doctor\" and (pos-1) % 2 == 1:\n",
    "            return \"Engineer\""
   ]
  }
 ],
 "metadata": {
  "kernelspec": {
   "display_name": "Python 3",
   "language": "python",
   "name": "python3"
  },
  "language_info": {
   "codemirror_mode": {
    "name": "ipython",
    "version": 3
   },
   "file_extension": ".py",
   "mimetype": "text/x-python",
   "name": "python",
   "nbconvert_exporter": "python",
   "pygments_lexer": "ipython3",
   "version": "3.6.5"
  }
 },
 "nbformat": 4,
 "nbformat_minor": 2
}
