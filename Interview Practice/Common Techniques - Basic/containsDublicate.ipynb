{
 "cells": [
  {
   "cell_type": "markdown",
   "metadata": {},
   "source": [
    "Given an array of integers, write a function that determines whether the array contains any duplicates. Your function should return true if any element appears at least twice in the array, and it should return false if every element is distinct.\n",
    "\n",
    "### Example\n",
    "\n",
    "For `a = [1, 2, 3, 1]`, the output should be\n",
    "`containsDuplicates(a) = true`.\n",
    "\n",
    "There are two 1s in the given array.\n",
    "\n",
    "For `a = [3, 1]`, the output should be\n",
    "`containsDuplicates(a) = false`.\n",
    "\n",
    "The given array contains no duplicates."
   ]
  },
  {
   "cell_type": "code",
   "execution_count": null,
   "metadata": {},
   "outputs": [],
   "source": [
    "def containsDuplicates(a):\n",
    "    makeSet = set(a)\n",
    "    if len(a) != len(makeSet):\n",
    "        return True\n",
    "    else:\n",
    "        return False"
   ]
  }
 ],
 "metadata": {
  "kernelspec": {
   "display_name": "Python 3",
   "language": "python",
   "name": "python3"
  },
  "language_info": {
   "codemirror_mode": {
    "name": "ipython",
    "version": 3
   },
   "file_extension": ".py",
   "mimetype": "text/x-python",
   "name": "python",
   "nbconvert_exporter": "python",
   "pygments_lexer": "ipython3",
   "version": "3.6.5"
  }
 },
 "nbformat": 4,
 "nbformat_minor": 2
}
