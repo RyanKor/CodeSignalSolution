{
 "cells": [
  {
   "cell_type": "markdown",
   "metadata": {},
   "source": [
    "You have a binary tree t. Your task is to find the largest value in each row of this tree. In a tree, a row is a set of nodes that have equal depth. For example, a row with depth 0 is a tree root, a row with depth 1 is composed of the root's children, etc.\n",
    "\n",
    "Return an array in which the first element is the largest value in the row with depth 0, the second element is the largest value in the row with depth 1, the third element is the largest element in the row with depth 2, etc.\n",
    "\n",
    "### Example\n",
    "\n",
    "For\n",
    "\n",
    "`t = {\n",
    "    \"value\": -1,\n",
    "    \"left\": {\n",
    "        \"value\": 5,\n",
    "        \"left\": null,\n",
    "        \"right\": null\n",
    "    },\n",
    "    \"right\": {\n",
    "        \"value\": 7,\n",
    "        \"left\": null,\n",
    "        \"right\": {\n",
    "            \"value\": 1,\n",
    "            \"left\": null,\n",
    "            \"right\": null\n",
    "        }\n",
    "    }\n",
    "}`\n",
    "\n",
    "the output should be `largestValuesInTreeRows(t) = [-1, 7, 1]`.\n",
    "\n",
    "The tree in the example looks like this:\n",
    "\n",
    "    -1\n",
    "   / \\\n",
    "  5   7\n",
    "       \\\n",
    "        1\n",
    "        \n",
    "In the row with depth 0, there is only one vertex - the root with value -1;\n",
    "In the row with depth 1, there are two vertices with values 5 and 7, so the largest value here is 7;\n",
    "In the row with depth 2, there is only one vertex with value 1."
   ]
  },
  {
   "cell_type": "code",
   "execution_count": null,
   "metadata": {},
   "outputs": [],
   "source": [
    "#\n",
    "# Definition for binary tree:\n",
    "# class Tree(object):\n",
    "#   def __init__(self, x):\n",
    "#     self.value = x\n",
    "#     self.left = None\n",
    "#     self.right = None\n",
    "def largestValuesInTreeRows(t: Tree):\n",
    "    ret = []\n",
    "    if not t:\n",
    "        return []\n",
    "    queue = [t]\n",
    "    while queue:\n",
    "        new_queue = []\n",
    "        ret.append(max(queue, key=lambda k: k.value).value)\n",
    "        for item in queue:\n",
    "            if item.left:\n",
    "                new_queue.append(item.left)\n",
    "            if item.right:\n",
    "                new_queue.append(item.right)\n",
    "        queue = new_queue\n",
    "    return ret"
   ]
  }
 ],
 "metadata": {
  "kernelspec": {
   "display_name": "Python 3",
   "language": "python",
   "name": "python3"
  },
  "language_info": {
   "codemirror_mode": {
    "name": "ipython",
    "version": 3
   },
   "file_extension": ".py",
   "mimetype": "text/x-python",
   "name": "python",
   "nbconvert_exporter": "python",
   "pygments_lexer": "ipython3",
   "version": "3.6.5"
  }
 },
 "nbformat": 4,
 "nbformat_minor": 2
}
