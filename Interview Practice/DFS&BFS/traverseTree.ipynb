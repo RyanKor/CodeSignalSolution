{
 "cells": [
  {
   "cell_type": "markdown",
   "metadata": {},
   "source": [
    "Note: Try to solve this task without using recursion, since this is what you'll be asked to do during an interview.\n",
    "\n",
    "Given a binary tree of integers t, return its node values in the following format:\n",
    "\n",
    "The first element should be the value of the tree root;\n",
    "The next elements should be the values of the nodes at height 1 (i.e. the root children), ordered from the leftmost to the rightmost one;\n",
    "The elements after that should be the values of the nodes at height 2 (i.e. the children of the nodes at height 1) ordered in the same way;\n",
    "Etc.\n",
    "### Example\n",
    "\n",
    "For\n",
    "\n",
    "`t = {\n",
    "    \"value\": 1,\n",
    "    \"left\": {\n",
    "        \"value\": 2,\n",
    "        \"left\": null,\n",
    "        \"right\": {\n",
    "            \"value\": 3,\n",
    "            \"left\": null,\n",
    "            \"right\": null\n",
    "        }\n",
    "    },\n",
    "    \"right\": {\n",
    "        \"value\": 4,\n",
    "        \"left\": {\n",
    "            \"value\": 5,\n",
    "            \"left\": null,\n",
    "            \"right\": null\n",
    "        },\n",
    "        \"right\": null\n",
    "    }\n",
    "}`\n",
    "\n",
    "the output should be\n",
    "`traverseTree(t) = [1, 2, 4, 3, 5]`.\n",
    "\n",
    "This t looks like this:\n",
    "\n",
    "     1\n",
    "   /   \\\n",
    "  2     4\n",
    "   \\   /\n",
    "    3 5"
   ]
  },
  {
   "cell_type": "code",
   "execution_count": null,
   "metadata": {},
   "outputs": [],
   "source": [
    "#\n",
    "# Definition for binary tree:\n",
    "# class Tree(object):\n",
    "#   def __init__(self, x):\n",
    "#     self.value = x\n",
    "#     self.left = None\n",
    "#     self.right = None\n",
    "def traverseTree(t):\n",
    "    answer =[]\n",
    "    q = []\n",
    "    if t is None:\n",
    "        return []\n",
    "    else:\n",
    "        q.append(t)\n",
    "        while q:\n",
    "            trave = q.pop(0)\n",
    "            answer.append(trave.value)\n",
    "            if trave.left:\n",
    "                q.append(trave.left)\n",
    "            if trave.right: #why it cannot use elif?\n",
    "                q.append(trave.right)\n",
    "        return answer"
   ]
  }
 ],
 "metadata": {
  "kernelspec": {
   "display_name": "Python 3",
   "language": "python",
   "name": "python3"
  },
  "language_info": {
   "codemirror_mode": {
    "name": "ipython",
    "version": 3
   },
   "file_extension": ".py",
   "mimetype": "text/x-python",
   "name": "python",
   "nbconvert_exporter": "python",
   "pygments_lexer": "ipython3",
   "version": "3.6.5"
  }
 },
 "nbformat": 4,
 "nbformat_minor": 2
}
