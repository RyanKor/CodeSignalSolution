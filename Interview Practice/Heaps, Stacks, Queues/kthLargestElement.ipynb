{
 "cells": [
  {
   "cell_type": "markdown",
   "metadata": {},
   "source": [
    "Note: Avoid using built-in std::nth_element (or analogous built-in functions in languages other than C++) when solving this challenge. Implement them yourself, since this is what you would be asked to do during a real interview.\n",
    "\n",
    "Find the kth largest element in an unsorted array. This will be the kth largest element in sorted order, not the kth distinct element.\n",
    "\n",
    "### Example\n",
    "\n",
    "For `nums = [7, 6, 5, 4, 3, 2, 1]` and `k = 2`, the output should be\n",
    "`kthLargestElement(nums, k) = 6`;\n",
    "\n",
    "For `nums = [99, 99]` and `k = 1`, the output should be\n",
    "`kthLargestElement(nums, k) = 99`."
   ]
  },
  {
   "cell_type": "code",
   "execution_count": null,
   "metadata": {},
   "outputs": [],
   "source": [
    "def kthLargestElement(nums, k):\n",
    "    \n",
    "    mergeSort(nums)\n",
    "    return nums[-k]\n",
    "    \n",
    "def mergeSort(arr): \n",
    "    if len(arr) >1: \n",
    "        mid = len(arr)//2  \n",
    "        L = arr[:mid]  \n",
    "        R = arr[mid:] \n",
    "  \n",
    "        mergeSort(L) \n",
    "        mergeSort(R)  \n",
    "  \n",
    "        i = j = k = 0\n",
    "          \n",
    "       \n",
    "        while i < len(L) and j < len(R): \n",
    "            if L[i] < R[j]: \n",
    "                arr[k] = L[i] \n",
    "                i+=1\n",
    "            else: \n",
    "                arr[k] = R[j] \n",
    "                j+=1\n",
    "            k+=1\n",
    "          \n",
    "        while i < len(L): \n",
    "            arr[k] = L[i] \n",
    "            i+=1\n",
    "            k+=1\n",
    "          \n",
    "        while j < len(R): \n",
    "            arr[k] = R[j] \n",
    "            j+=1\n",
    "            k+=1\n",
    "            \n",
    "# Solution2\n",
    "    # nums.sort()\n",
    "    # return nums[-k]"
   ]
  }
 ],
 "metadata": {
  "kernelspec": {
   "display_name": "Python 3",
   "language": "python",
   "name": "python3"
  },
  "language_info": {
   "codemirror_mode": {
    "name": "ipython",
    "version": 3
   },
   "file_extension": ".py",
   "mimetype": "text/x-python",
   "name": "python",
   "nbconvert_exporter": "python",
   "pygments_lexer": "ipython3",
   "version": "3.6.5"
  }
 },
 "nbformat": 4,
 "nbformat_minor": 2
}
