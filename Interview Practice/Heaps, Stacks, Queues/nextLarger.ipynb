{
 "cells": [
  {
   "cell_type": "markdown",
   "metadata": {},
   "source": [
    "### Note: Write a solution with O(n) complexity, since this is what you would be asked to do during a real interview.\n",
    "\n",
    "Given an array a composed of distinct elements, find the next larger element for each element of the array, i.e. the first element to the right that is greater than this element, in the order in which they appear in the array, and return the results as a new array of the same length. If an element does not have a larger element to its right, put -1 in the appropriate cell of the result array.\n",
    "\n",
    "### Example\n",
    "\n",
    "For `a = [6, 7, 3, 8]`, the output should be\n",
    "`nextLarger(a) = [7, 8, 8, -1]`.\n",
    "\n",
    "In this array, the next larger element for 6 is 7, for 7 is 8, for 3 is 8 (7 is not a valid option since elements from a can only be compared to elements to their right), and for 8 there is no such element, so we put -1 in the last cell."
   ]
  },
  {
   "cell_type": "code",
   "execution_count": null,
   "metadata": {},
   "outputs": [],
   "source": [
    "def nextLarger(a):\n",
    "    answer = []\n",
    "    temp = []\n",
    "    for num in reversed(a):\n",
    "        if not answer:\n",
    "            temp = [-1] + temp\n",
    "        else:\n",
    "            for c in answer:\n",
    "                if c > num:\n",
    "                    temp = [c] + temp\n",
    "                    break\n",
    "            else:\n",
    "                temp = [-1] + temp\n",
    "        if num in answer: answer.remove(num)\n",
    "        answer = [num] + answer\n",
    "\n",
    "    return(temp)   "
   ]
  }
 ],
 "metadata": {
  "kernelspec": {
   "display_name": "Python 3",
   "language": "python",
   "name": "python3"
  },
  "language_info": {
   "codemirror_mode": {
    "name": "ipython",
    "version": 3
   },
   "file_extension": ".py",
   "mimetype": "text/x-python",
   "name": "python",
   "nbconvert_exporter": "python",
   "pygments_lexer": "ipython3",
   "version": "3.6.5"
  }
 },
 "nbformat": 4,
 "nbformat_minor": 2
}
