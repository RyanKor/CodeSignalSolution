{
 "cells": [
  {
   "cell_type": "markdown",
   "metadata": {},
   "source": [
    "Given a 2D grid skyMap composed of '1's (clouds) and '0's (clear sky), count the number of clouds. A cloud is surrounded by clear sky, and is formed by connecting adjacent clouds horizontally or vertically. You can assume that all four edges of the skyMap are surrounded by clear sky.\n",
    "\n",
    "### Example\n",
    "\n",
    "For\n",
    "\n",
    "`skyMap = [['0', '1', '1', '0', '1'],\n",
    "          ['0', '1', '1', '1', '1'],\n",
    "          ['0', '0', '0', '0', '1'],\n",
    "          ['1', '0', '0', '1', '1']]`\n",
    "          \n",
    "the output should be\n",
    "`countClouds(skyMap) = 2`;\n",
    "\n",
    "For\n",
    "\n",
    "`skyMap = [['0', '1', '0', '0', '1'],\n",
    "          ['1', '1', '0', '0', '0'],\n",
    "          ['0', '0', '1', '0', '1'],\n",
    "          ['0', '0', '1', '1', '0'],\n",
    "          ['1', '0', '1', '1', '0']]`\n",
    "          \n",
    "the output should be\n",
    "`countClouds(skyMap) = 5`."
   ]
  },
  {
   "cell_type": "code",
   "execution_count": null,
   "metadata": {},
   "outputs": [],
   "source": [
    "def countClouds(skyMap):\n",
    "    cnt = 0\n",
    "    for i in range(len(skyMap)):\n",
    "        for j in range(len(skyMap[i])):\n",
    "            if(skyMap[i][j] == '1'):\n",
    "                cnt +=1\n",
    "                removeCloud(i,j,skyMap)\n",
    "    return cnt\n",
    "    \n",
    "def removeCloud(x,y,sky):\n",
    "    sky[x][y] = '0'\n",
    "    if x+1<len(sky) and sky[x+1][y] == '1':\n",
    "        removeCloud(x+1,y,sky)\n",
    "    if x-1>=0 and sky[x-1][y] == '1':\n",
    "        removeCloud(x-1,y,sky)\n",
    "    if y+1<len(sky[0]) and sky[x][y+1] == '1':\n",
    "        removeCloud(x,y+1,sky)\n",
    "    if y-1>=0 and sky[x][y-1] == '1':\n",
    "        removeCloud(x,y-1,sky)"
   ]
  }
 ],
 "metadata": {
  "kernelspec": {
   "display_name": "Python 3",
   "language": "python",
   "name": "python3"
  },
  "language_info": {
   "codemirror_mode": {
    "name": "ipython",
    "version": 3
   },
   "file_extension": ".py",
   "mimetype": "text/x-python",
   "name": "python",
   "nbconvert_exporter": "python",
   "pygments_lexer": "ipython3",
   "version": "3.6.5"
  }
 },
 "nbformat": 4,
 "nbformat_minor": 2
}
