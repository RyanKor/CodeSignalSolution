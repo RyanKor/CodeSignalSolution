{
 "cells": [
  {
   "cell_type": "markdown",
   "metadata": {},
   "source": [
    "Note: Write a solution with O(operations.length) complexity, since this is what you would be asked to do during a real interview.\n",
    "\n",
    "Implement a modified stack that, in addition to using push and pop operations, allows you to find the current minimum element in the stack by using a min operation.\n",
    "\n",
    "### Example\n",
    "\n",
    "For `operations = [\"push 10\", \"min\", \"push 5\", \"min\", \"push 8\", \"min\", \"pop\", \"min\", \"pop\", \"min\"]`, the output should be\n",
    "`minimumOnStack(operations) = [10, 5, 5, 5, 10]`.\n",
    "\n",
    "The operations array contains 5 instances of the min operation. The results array contains 5 numbers, each representing the minimum element in the stack at the moment when min was called."
   ]
  },
  {
   "cell_type": "code",
   "execution_count": null,
   "metadata": {},
   "outputs": [],
   "source": [
    "def minimumOnStack(operations):\n",
    "    temp = []\n",
    "    answer = []\n",
    "    for ch in operations:\n",
    "        if ch[0:2] == \"pu\":\n",
    "            temp.append(int(ch[5:]))\n",
    "        elif ch[0] == \"m\" and temp is not None:\n",
    "            answer.append(min(temp))\n",
    "        elif ch[0:2] == \"po\":\n",
    "            temp.remove(temp[-1])\n",
    "    return answer"
   ]
  }
 ],
 "metadata": {
  "kernelspec": {
   "display_name": "Python 3",
   "language": "python",
   "name": "python3"
  },
  "language_info": {
   "codemirror_mode": {
    "name": "ipython",
    "version": 3
   },
   "file_extension": ".py",
   "mimetype": "text/x-python",
   "name": "python",
   "nbconvert_exporter": "python",
   "pygments_lexer": "ipython3",
   "version": "3.6.5"
  }
 },
 "nbformat": 4,
 "nbformat_minor": 2
}
