{
 "cells": [
  {
   "cell_type": "markdown",
   "metadata": {},
   "source": [
    "Implement the missing code, denoted by ellipses. You may not modify the pre-existing code.\n",
    "Given an array of integers, sort it.\n",
    "\n",
    "### Example\n",
    "\n",
    "For `items = [2, 4, 1, 5]`, the output should be\n",
    "`bubbleSort(items) = [1, 2, 4, 5]`."
   ]
  },
  {
   "cell_type": "code",
   "execution_count": null,
   "metadata": {},
   "outputs": [],
   "source": [
    "def bubbleSort(items):\n",
    "\n",
    "    def swap(firstIndex, secondIndex):\n",
    "        temp = items[firstIndex]\n",
    "        items[firstIndex] = items[secondIndex]\n",
    "        items[secondIndex] = temp\n",
    "        #the reason why we set temp variable here is we try to avoid changing firstIndex variable.\n",
    "\n",
    "    #This is the ellipses part below.    \n",
    "    length = len(items)\n",
    "\n",
    "    for i in range(length):\n",
    "        j = 0\n",
    "        stop = length - i\n",
    "        while j < stop - 1:\n",
    "            if items[j] > items[j + 1]:\n",
    "                swap(j, j + 1)\n",
    "            j += 1\n",
    "    return items"
   ]
  }
 ],
 "metadata": {
  "kernelspec": {
   "display_name": "Python 3",
   "language": "python",
   "name": "python3"
  },
  "language_info": {
   "codemirror_mode": {
    "name": "ipython",
    "version": 3
   },
   "file_extension": ".py",
   "mimetype": "text/x-python",
   "name": "python",
   "nbconvert_exporter": "python",
   "pygments_lexer": "ipython3",
   "version": "3.6.5"
  }
 },
 "nbformat": 4,
 "nbformat_minor": 2
}
