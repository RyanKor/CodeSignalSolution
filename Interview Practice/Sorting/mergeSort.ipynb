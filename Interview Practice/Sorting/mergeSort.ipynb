{
 "cells": [
  {
   "cell_type": "markdown",
   "metadata": {},
   "source": [
    "Implement the missing code, denoted by ellipses. You may not modify the pre-existing code.\n",
    "Sort an array of integers.\n",
    "\n",
    "### Example\n",
    "\n",
    "For `sequence = [3, 6, 1, 5, 3, 6]`, the output should be\n",
    "`mergeSort(sequence) = [1, 3, 3, 5, 6, 6]`."
   ]
  },
  {
   "cell_type": "code",
   "execution_count": null,
   "metadata": {},
   "outputs": [],
   "source": [
    "def mergeSort(sequence):\n",
    "    def merge(sequence, left, middle, right):\n",
    "\n",
    "        result = []\n",
    "\n",
    "        i = left\n",
    "        j = middle\n",
    "        while i < middle and j < right:\n",
    "            if sequence[i] < sequence[j]:\n",
    "                result.append(sequence[i])\n",
    "                i += 1\n",
    "            else:\n",
    "                result.append(sequence[j])\n",
    "                j += 1\n",
    "\n",
    "        while i < middle:\n",
    "            result.append(sequence[i])\n",
    "            i += 1\n",
    "\n",
    "        while j < right:\n",
    "            result.append(sequence[j])\n",
    "            j += 1\n",
    "\n",
    "        for i in range(left, right):\n",
    "            sequence[i] = result[i - left]\n",
    "\n",
    "    def split(sequence, left, right):\n",
    "        middle = (left + right) // 2\n",
    "\n",
    "        if left == right - 1:\n",
    "            return\n",
    "        split(sequence, left, middle)\n",
    "        split(sequence, middle, right)\n",
    "        merge(sequence, left, middle, right)\n",
    "\n",
    "    split(sequence, 0, len(sequence))\n",
    "\n",
    "    return sequence"
   ]
  }
 ],
 "metadata": {
  "kernelspec": {
   "display_name": "Python 3",
   "language": "python",
   "name": "python3"
  },
  "language_info": {
   "codemirror_mode": {
    "name": "ipython",
    "version": 3
   },
   "file_extension": ".py",
   "mimetype": "text/x-python",
   "name": "python",
   "nbconvert_exporter": "python",
   "pygments_lexer": "ipython3",
   "version": "3.6.5"
  }
 },
 "nbformat": 4,
 "nbformat_minor": 2
}
