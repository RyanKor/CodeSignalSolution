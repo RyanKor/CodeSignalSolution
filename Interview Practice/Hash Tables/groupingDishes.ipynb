{
 "cells": [
  {
   "cell_type": "markdown",
   "metadata": {},
   "source": [
    "You are given a list dishes, where each element consists of a list of strings beginning with the name of the dish, followed by all the ingredients used in preparing it. You want to group the dishes by ingredients, so that for each ingredient you'll be able to find all the dishes that contain it (if there are at least 2 such dishes).\n",
    "\n",
    "Return an array where each element is a list beginning with the ingredient name, followed by the names of all the dishes that contain this ingredient. The dishes inside each list should be sorted lexicographically, and the result array should be sorted lexicographically by the names of the ingredients.\n",
    "\n",
    "### Example\n",
    "\n",
    "For\n",
    "  `dishes = [[\"Salad\", \"Tomato\", \"Cucumber\", \"Salad\", \"Sauce\"],\n",
    "            [\"Pizza\", \"Tomato\", \"Sausage\", \"Sauce\", \"Dough\"],\n",
    "            [\"Quesadilla\", \"Chicken\", \"Cheese\", \"Sauce\"],\n",
    "            [\"Sandwich\", \"Salad\", \"Bread\", \"Tomato\", \"Cheese\"]]`\n",
    "            \n",
    "the output should be\n",
    "\n",
    "  `groupingDishes(dishes) = [[\"Cheese\", \"Quesadilla\", \"Sandwich\"],\n",
    "                            [\"Salad\", \"Salad\", \"Sandwich\"],\n",
    "                            [\"Sauce\", \"Pizza\", \"Quesadilla\", \"Salad\"],\n",
    "                            [\"Tomato\", \"Pizza\", \"Salad\", \"Sandwich\"]]`\n",
    "                            \n",
    "For\n",
    "  `dishes = [[\"Pasta\", \"Tomato Sauce\", \"Onions\", \"Garlic\"],\n",
    "            [\"Chicken Curry\", \"Chicken\", \"Curry Sauce\"],\n",
    "            [\"Fried Rice\", \"Rice\", \"Onions\", \"Nuts\"],\n",
    "            [\"Salad\", \"Spinach\", \"Nuts\"],\n",
    "            [\"Sandwich\", \"Cheese\", \"Bread\"],\n",
    "            [\"Quesadilla\", \"Chicken\", \"Cheese\"]]`\n",
    "            \n",
    "the output should be\n",
    "\n",
    "  `groupingDishes(dishes) = [[\"Cheese\", \"Quesadilla\", \"Sandwich\"],\n",
    "                            [\"Chicken\", \"Chicken Curry\", \"Quesadilla\"],\n",
    "                            [\"Nuts\", \"Fried Rice\", \"Salad\"],\n",
    "                            [\"Onions\", \"Fried Rice\", \"Pasta\"]]`"
   ]
  },
  {
   "cell_type": "code",
   "execution_count": null,
   "metadata": {},
   "outputs": [],
   "source": [
    "def groupingDishes(dishes):\n",
    "    my_dic = {}\n",
    "    for dish in dishes:\n",
    "        main_dish = dish[0]\n",
    "        dish = dish[1:]\n",
    "        for i, v in enumerate(dish):\n",
    "            if v in my_dic:\n",
    "                my_dic[v] = my_dic[v] + [main_dish]\n",
    "            else:\n",
    "                my_dic[v] = [main_dish]\n",
    "    #filter\n",
    "    filter_dic = {}\n",
    "    for k, v in my_dic.items():\n",
    "        if len(v) > 1:\n",
    "            filter_dic[k] = v\n",
    "    #print(filter_dic)\n",
    "    new = sorted(filter_dic.items())\n",
    "    arr = []\n",
    "    for i in new:\n",
    "        arr.append([i[0],*sorted(i[1])])\n",
    "    \n",
    "    return arr"
   ]
  }
 ],
 "metadata": {
  "kernelspec": {
   "display_name": "Python 3",
   "language": "python",
   "name": "python3"
  },
  "language_info": {
   "codemirror_mode": {
    "name": "ipython",
    "version": 3
   },
   "file_extension": ".py",
   "mimetype": "text/x-python",
   "name": "python",
   "nbconvert_exporter": "python",
   "pygments_lexer": "ipython3",
   "version": "3.6.5"
  }
 },
 "nbformat": 4,
 "nbformat_minor": 2
}
