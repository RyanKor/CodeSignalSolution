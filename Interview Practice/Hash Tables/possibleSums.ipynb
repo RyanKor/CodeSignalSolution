{
 "cells": [
  {
   "cell_type": "markdown",
   "metadata": {},
   "source": [
    "You have a collection of coins, and you know the values of the coins and the quantity of each type of coin in it. You want to know how many distinct sums you can make from non-empty groupings of these coins.\n",
    "\n",
    "### Example\n",
    "\n",
    "For `coins = [10, 50, 100]` and `quantity = [1, 2, 1]`, the output should be\n",
    "`possibleSums(coins, quantity) = 9`.\n",
    "\n",
    "Here are all the possible sums:\n",
    "\n",
    "50 = 50;\n",
    "\n",
    "10 + 50 = 60;\n",
    "\n",
    "50 + 100 = 150;\n",
    "\n",
    "10 + 50 + 100 = 160;\n",
    "\n",
    "50 + 50 = 100;\n",
    "\n",
    "10 + 50 + 50 = 110;\n",
    "\n",
    "50 + 50 + 100 = 200;\n",
    "\n",
    "10 + 50 + 50 + 100 = 210;\n",
    "\n",
    "10 = 10;\n",
    "\n",
    "100 = 100;\n",
    "\n",
    "10 + 100 = 110.\n",
    "\n",
    "As you can see, there are 9 distinct sums that can be created from non-empty groupings of your coins."
   ]
  },
  {
   "cell_type": "code",
   "execution_count": null,
   "metadata": {},
   "outputs": [],
   "source": [
    "def possibleSums(coins, quantity):\n",
    "    dic = {0}\n",
    "    # the concept of \"zip\" Function? Enumerate pairs of values using zip.\n",
    "    for coin, quan in zip(coins, quantity):\n",
    "        new = {}\n",
    "        for i in range(1, quan+1):\n",
    "            for sum in dic:\n",
    "                tmp = sum + i * coin\n",
    "                if tmp not in dic:\n",
    "                    new[tmp] = tmp\n",
    "        dic.update(new) #Add multiple values using update function.\n",
    "    \n",
    "    return len(dic) - 1\n",
    "        "
   ]
  }
 ],
 "metadata": {
  "kernelspec": {
   "display_name": "Python 3",
   "language": "python",
   "name": "python3"
  },
  "language_info": {
   "codemirror_mode": {
    "name": "ipython",
    "version": 3
   },
   "file_extension": ".py",
   "mimetype": "text/x-python",
   "name": "python",
   "nbconvert_exporter": "python",
   "pygments_lexer": "ipython3",
   "version": "3.6.5"
  }
 },
 "nbformat": 4,
 "nbformat_minor": 2
}
