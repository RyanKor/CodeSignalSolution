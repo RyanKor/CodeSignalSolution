{
 "cells": [
  {
   "cell_type": "markdown",
   "metadata": {},
   "source": [
    "Given an array of integers nums and an integer k, determine whether there are two distinct indices i and j in the array where nums[i] = nums[j] and the absolute difference between i and j is less than or equal to k.\n",
    "\n",
    "### Example\n",
    "\n",
    "For `nums = [0, 1, 2, 3, 5, 2]` and `k = 3`, the output should be\n",
    "`containsCloseNums(nums, k) = true`.\n",
    "\n",
    "There are two 2s in nums, and the absolute difference between their positions is exactly 3.\n",
    "\n",
    "For `nums = [0, 1, 2, 3, 5, 2]` and `k = 2`, the output should be\n",
    "`containsCloseNums(nums, k) = false`.\n",
    "\n",
    "The absolute difference between the positions of the two 2s is 3, which is more than k."
   ]
  },
  {
   "cell_type": "code",
   "execution_count": null,
   "metadata": {},
   "outputs": [],
   "source": [
    "def containsCloseNums(nums, k):\n",
    "    \n",
    "# Solution One    \n",
    "#     dic = {}\n",
    "#     for i, j in enumerate(nums):\n",
    "#         if j in dic:\n",
    "#             if abs(dic[j] - i) <= k:\n",
    "#                 return True\n",
    "#             dic[j] = i\n",
    "#         else :\n",
    "#             dic[j] = i\n",
    "#     return False\n",
    "    \n",
    "# Solution Two    \n",
    "#duplicate check. if duplicated number is none, then return False.\n",
    "    if len(set(nums)) == len(nums): \n",
    "        return False\n",
    "# j-i = k. Then j = k + 1. if nums[j] which is same with nums[i], then it will exist in [i+1:i+k+1].     \n",
    "    for i in range(len(nums)):\n",
    "        if nums[i] in set(nums[i+1:i+k+1]):\n",
    "            return True\n",
    "    return False"
   ]
  }
 ],
 "metadata": {
  "kernelspec": {
   "display_name": "Python 3",
   "language": "python",
   "name": "python3"
  },
  "language_info": {
   "codemirror_mode": {
    "name": "ipython",
    "version": 3
   },
   "file_extension": ".py",
   "mimetype": "text/x-python",
   "name": "python",
   "nbconvert_exporter": "python",
   "pygments_lexer": "ipython3",
   "version": "3.6.5"
  }
 },
 "nbformat": 4,
 "nbformat_minor": 2
}
