{
 "cells": [
  {
   "cell_type": "markdown",
   "metadata": {},
   "source": [
    "Given an array strings, determine whether it follows the sequence given in the patterns array. In other words, there should be no i and j for which strings[i] = strings[j] and patterns[i] ≠ patterns[j] or for which strings[i] ≠ strings[j] and patterns[i] = patterns[j].\n",
    "\n",
    "### Example\n",
    "\n",
    "For `strings = [\"cat\", \"dog\", \"dog\"] and patterns = [\"a\", \"b\", \"b\"]`,\n",
    "\n",
    "the output should be\n",
    "`areFollowingPatterns(strings, patterns) = true`;\n",
    "\n",
    "For `strings = [\"cat\", \"dog\", \"doggy\"] and patterns = [\"a\", \"b\", \"b\"]`,\n",
    "\n",
    "the output should be\n",
    "`areFollowingPatterns(strings, patterns) = false`."
   ]
  },
  {
   "cell_type": "code",
   "execution_count": null,
   "metadata": {},
   "outputs": [],
   "source": [
    "def areFollowingPatterns(strings, patterns):\n",
    "    dic = {}\n",
    "    for i in range(len(strings)):\n",
    "        if strings[i] not in dic:\n",
    "            if patterns[i] in dic.values():\n",
    "                return False\n",
    "            \n",
    "            dic[strings[i]] = patterns[i]\n",
    "            \n",
    "        else:\n",
    "            if dic[strings[i]] != patterns[i]:\n",
    "                return False\n",
    "    return True"
   ]
  }
 ],
 "metadata": {
  "kernelspec": {
   "display_name": "Python 3",
   "language": "python",
   "name": "python3"
  },
  "language_info": {
   "codemirror_mode": {
    "name": "ipython",
    "version": 3
   },
   "file_extension": ".py",
   "mimetype": "text/x-python",
   "name": "python",
   "nbconvert_exporter": "python",
   "pygments_lexer": "ipython3",
   "version": "3.6.5"
  }
 },
 "nbformat": 4,
 "nbformat_minor": 2
}
