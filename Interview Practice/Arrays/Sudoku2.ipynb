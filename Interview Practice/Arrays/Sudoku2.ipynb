{
 "cells": [
  {
   "cell_type": "markdown",
   "metadata": {},
   "source": [
    "Sudoku is a number-placement puzzle. The objective is to fill a 9 × 9 grid with numbers in such a way that each column, each row, and each of the nine 3 × 3 sub-grids that compose the grid all contain all of the numbers from 1 to 9 one time.\n",
    "\n",
    "Implement an algorithm that will check whether the given grid of numbers represents a valid Sudoku puzzle according to the layout rules described above. Note that the puzzle represented by grid does not have to be solvable.\n",
    "\n",
    "### Example\n",
    "\n",
    "For\n",
    "\n",
    "`grid = [['.', '.', '.', '1', '4', '.', '.', '2', '.'],\n",
    "        ['.', '.', '6', '.', '.', '.', '.', '.', '.'],\n",
    "        ['.', '.', '.', '.', '.', '.', '.', '.', '.'],\n",
    "        ['.', '.', '1', '.', '.', '.', '.', '.', '.'],\n",
    "        ['.', '6', '7', '.', '.', '.', '.', '.', '9'],\n",
    "        ['.', '.', '.', '.', '.', '.', '8', '1', '.'],\n",
    "        ['.', '3', '.', '.', '.', '.', '.', '.', '6'],\n",
    "        ['.', '.', '.', '.', '.', '7', '.', '.', '.'],\n",
    "        ['.', '.', '.', '5', '.', '.', '.', '7', '.']]`\n",
    "        \n",
    "the output should be\n",
    "sudoku2(grid) = true;\n",
    "\n",
    "For\n",
    "\n",
    "`grid = [['.', '.', '.', '.', '2', '.', '.', '9', '.'],\n",
    "        ['.', '.', '.', '.', '6', '.', '.', '.', '.'],\n",
    "        ['7', '1', '.', '.', '7', '5', '.', '.', '.'],\n",
    "        ['.', '7', '.', '.', '.', '.', '.', '.', '.'],\n",
    "        ['.', '.', '.', '.', '8', '3', '.', '.', '.'],\n",
    "        ['.', '.', '8', '.', '.', '7', '.', '6', '.'],\n",
    "        ['.', '.', '.', '.', '.', '2', '.', '.', '.'],\n",
    "        ['.', '1', '.', '2', '.', '.', '.', '.', '.'],\n",
    "        ['.', '2', '.', '.', '3', '.', '.', '.', '.']]`\n",
    "        \n",
    "the output should be\n",
    "sudoku2(grid) = false.\n",
    "\n",
    "The given grid is not correct because there are two 1s in the second column. Each column, each row, and each 3 × 3 subgrid can only contain the numbers 1 through 9 one time."
   ]
  },
  {
   "cell_type": "code",
   "execution_count": null,
   "metadata": {},
   "outputs": [],
   "source": [
    "def sudoku2(grid):\n",
    "    l=list(range(1,10))\n",
    "    def checkInnerGrids(x,y):\n",
    "        a = [grid[i][j] for i in range(x,x+3) for j in range(y,y+3) if grid[i][j] != '.']\n",
    "        b = set([grid[i][j] for i in range(x,x+3) for j in range(y,y+3) if grid[i][j] != '.'])\n",
    "        #print('a',a,'b',b,len(a) == len(b))\n",
    "        return len(a) == len(b)\n",
    "\n",
    "    def checkLinesColumns(i):\n",
    "        a = set(j for j in grid[i] if j != '.')\n",
    "        b = [j for j in grid[i] if j != '.']\n",
    "        c = set([grid[x][i] for x in range(9) if grid[x][i] != '.'])\n",
    "        d = [grid[x][i] for x in range(9) if grid[x][i] != '.']\n",
    "        return len(a) == len(b) and len(c) == len(d)\n",
    "\n",
    "    for i in range(0,9,3):\n",
    "        for j in range(0,9,3):\n",
    "            if not checkInnerGrids(i,j):\n",
    "                return False\n",
    "    for i in range(9):\n",
    "        if not checkLinesColumns(i):\n",
    "            return False\n",
    "    return True "
   ]
  }
 ],
 "metadata": {
  "kernelspec": {
   "display_name": "Python 3",
   "language": "python",
   "name": "python3"
  },
  "language_info": {
   "codemirror_mode": {
    "name": "ipython",
    "version": 3
   },
   "file_extension": ".py",
   "mimetype": "text/x-python",
   "name": "python",
   "nbconvert_exporter": "python",
   "pygments_lexer": "ipython3",
   "version": "3.6.5"
  }
 },
 "nbformat": 4,
 "nbformat_minor": 2
}
