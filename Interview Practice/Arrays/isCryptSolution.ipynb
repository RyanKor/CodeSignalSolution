{
 "cells": [
  {
   "cell_type": "markdown",
   "metadata": {},
   "source": [
    "A cryptarithm is a mathematical puzzle for which the goal is to find the correspondence between letters and digits, such that the given arithmetic equation consisting of letters holds true when the letters are converted to digits.\n",
    "\n",
    "You have an array of strings crypt, the cryptarithm, and an an array containing the mapping of letters and digits, solution. The array crypt will contain three non-empty strings that follow the structure: [word1, word2, word3], which should be interpreted as the word1 + word2 = word3 cryptarithm.\n",
    "\n",
    "If crypt, when it is decoded by replacing all of the letters in the cryptarithm with digits using the mapping in solution, becomes a valid arithmetic equation containing no numbers with leading zeroes, the answer is true. If it does not become a valid arithmetic solution, the answer is false.\n",
    "\n",
    "Note that number 0 doesn't contain leading zeroes (while for example 00 or 0123 do).\n",
    "\n",
    "### Example\n",
    "\n",
    "For `crypt = [\"SEND\", \"MORE\", \"MONEY\"]` and\n",
    "\n",
    "`solution = [['O', '0'],\n",
    "            ['M', '1'],\n",
    "            ['Y', '2'],\n",
    "            ['E', '5'],\n",
    "            ['N', '6'],\n",
    "            ['D', '7'],\n",
    "            ['R', '8'],\n",
    "            ['S', '9']]`\n",
    "            \n",
    "the output should be\n",
    "`isCryptSolution(crypt, solution) = true`.\n",
    "\n",
    "When you decrypt \"SEND\", \"MORE\", and \"MONEY\" using the mapping given in crypt, you get 9567 + 1085 = 10652 which is correct and a valid arithmetic equation.\n",
    "\n",
    "For `crypt = [\"TEN\", \"TWO\", \"ONE\"]` and\n",
    "\n",
    "`solution = [['O', '1'],\n",
    "            ['T', '0'],\n",
    "            ['W', '9'],\n",
    "            ['E', '5'],\n",
    "            ['N', '4']]`\n",
    "            \n",
    "the output should be\n",
    "`isCryptSolution(crypt, solution) = false`.\n",
    "\n",
    "Even though 054 + 091 = 145, 054 and 091 both contain leading zeroes, meaning that this is not a valid solution."
   ]
  },
  {
   "cell_type": "code",
   "execution_count": null,
   "metadata": {},
   "outputs": [],
   "source": [
    "def isCryptSolution(crypt, solution):\n",
    "    mapping = {}\n",
    "    for entry in solution:\n",
    "        mapping[entry[0]] = entry[1]\n",
    "    word1 = ''.join([mapping[i] for i in crypt[0]])\n",
    "    word2 = ''.join([mapping[i] for i in crypt[1]])\n",
    "    result = ''.join([mapping[i] for i in crypt[2]])\n",
    "    \n",
    "    if ((word1[0] == '0' and len(word1)>1) \n",
    "        or (word2[0] == '0' and len(word2)>1) \n",
    "        or result[0] == '0'and len(result)>1):\n",
    "        return False\n",
    "    \n",
    "    return int(result) == int(word1)+int(word2)"
   ]
  }
 ],
 "metadata": {
  "kernelspec": {
   "display_name": "Python 3",
   "language": "python",
   "name": "python3"
  },
  "language_info": {
   "codemirror_mode": {
    "name": "ipython",
    "version": 3
   },
   "file_extension": ".py",
   "mimetype": "text/x-python",
   "name": "python",
   "nbconvert_exporter": "python",
   "pygments_lexer": "ipython3",
   "version": "3.6.5"
  }
 },
 "nbformat": 4,
 "nbformat_minor": 2
}
