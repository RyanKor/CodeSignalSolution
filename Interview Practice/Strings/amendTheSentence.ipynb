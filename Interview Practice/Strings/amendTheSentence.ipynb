{
 "cells": [
  {
   "cell_type": "markdown",
   "metadata": {},
   "source": [
    "You have been given a string s, which is supposed to be a sentence. However, someone forgot to put spaces between the different words, and for some reason they capitalized the first letter of every word. Return the sentence after making the following amendments:\n",
    "\n",
    "Put a single space between the words.\n",
    "Convert the uppercase letters to lowercase.\n",
    "\n",
    "\n",
    "### Example\n",
    "\n",
    "For `s = \"CodesignalIsAwesome\"`, the output should be\n",
    "`amendTheSentence(s) = \"codesignal is awesome\"`;\n",
    "\n",
    "For `s = \"Hello\"`, the output should be\n",
    "`amendTheSentence(s) = \"hello\"`."
   ]
  },
  {
   "cell_type": "code",
   "execution_count": null,
   "metadata": {},
   "outputs": [],
   "source": [
    "def amendTheSentence(s):\n",
    "     return ''.join([s[0].lower()] + [' ' + x.lower() if x.isupper() else x for x in list(s)[1:]])"
   ]
  }
 ],
 "metadata": {
  "kernelspec": {
   "display_name": "Python 3",
   "language": "python",
   "name": "python3"
  },
  "language_info": {
   "codemirror_mode": {
    "name": "ipython",
    "version": 3
   },
   "file_extension": ".py",
   "mimetype": "text/x-python",
   "name": "python",
   "nbconvert_exporter": "python",
   "pygments_lexer": "ipython3",
   "version": "3.6.5"
  }
 },
 "nbformat": 4,
 "nbformat_minor": 2
}
