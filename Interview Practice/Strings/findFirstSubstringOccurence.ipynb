{
 "cells": [
  {
   "cell_type": "markdown",
   "metadata": {},
   "source": [
    "Avoid using built-in functions to solve this challenge. Implement them yourself, since this is what you would be asked to do during a real interview.\n",
    "\n",
    "Implement a function that takes two strings, s and x, as arguments and finds the first occurrence of the string x in s. The function should return an integer indicating the index in s of the first occurrence of x. If there are no occurrences of x in s, return -1.\n",
    "\n",
    "### Example\n",
    "\n",
    "For `s = \"CodefightsIsAwesome\" and x = \"IA\"`, the output should be\n",
    "`strstr(s, x) = -1`;\n",
    "\n",
    "For `s = \"CodefightsIsAwesome\" and x = \"IsA\"`, the output should be\n",
    "`strstr(s, x) = 10`."
   ]
  },
  {
   "cell_type": "code",
   "execution_count": null,
   "metadata": {},
   "outputs": [],
   "source": [
    "def findFirstSubstringOccurrence(s, x):\n",
    "    if x not in s:\n",
    "        return -1\n",
    "    for i in range(len(s)):\n",
    "        if s[i:i+len(x)] == x[:]:\n",
    "            return i "
   ]
  }
 ],
 "metadata": {
  "kernelspec": {
   "display_name": "Python 3",
   "language": "python",
   "name": "python3"
  },
  "language_info": {
   "codemirror_mode": {
    "name": "ipython",
    "version": 3
   },
   "file_extension": ".py",
   "mimetype": "text/x-python",
   "name": "python",
   "nbconvert_exporter": "python",
   "pygments_lexer": "ipython3",
   "version": "3.6.5"
  }
 },
 "nbformat": 4,
 "nbformat_minor": 2
}
