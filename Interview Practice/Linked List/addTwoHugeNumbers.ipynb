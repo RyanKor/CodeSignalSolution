{
 "cells": [
  {
   "cell_type": "markdown",
   "metadata": {},
   "source": [
    "You're given 2 huge integers represented by linked lists. Each linked list element is a number from 0 to 9999 that represents a number with exactly 4 digits. The represented number might have leading zeros. Your task is to add up these huge integers and return the result in the same format.\n",
    "\n",
    "### Example\n",
    "\n",
    "For `a = [9876, 5432, 1999] and b = [1, 8001]`, the output should be\n",
    "`addTwoHugeNumbers(a, b) = [9876, 5434, 0]`.\n",
    "\n",
    "Explanation: 987654321999 + 18001 = 987654340000.\n",
    "\n",
    "For `a = [123, 4, 5] and b = [100, 100, 100]`, the output should be\n",
    "`addTwoHugeNumbers(a, b) = [223, 104, 105]`.\n",
    "\n",
    "Explanation: 12300040005 + 10001000100 = 22301040105."
   ]
  },
  {
   "cell_type": "code",
   "execution_count": null,
   "metadata": {},
   "outputs": [],
   "source": [
    "# Definition for singly-linked list:\n",
    "# class ListNode(object):\n",
    "#   def __init__(self, x):\n",
    "#     self.value = x\n",
    "#     self.next = None\n",
    "#\n",
    "def addTwoHugeNumbers(a, b):\n",
    "    new_a = reverse_linked_list(a)\n",
    "    new_b = reverse_linked_list(b)\n",
    "    curr_a, curr_b = new_a, new_b\n",
    "    carry = 0\n",
    "    new_head = None\n",
    "    prev = None\n",
    "    while curr_a is not None or curr_b is not None:\n",
    "        curr, carry = add_list_elem(curr_a, curr_b, carry)\n",
    "        if prev:\n",
    "            prev.next = curr\n",
    "            prev = curr\n",
    "        if new_head is None:\n",
    "            new_head = curr\n",
    "            prev = curr\n",
    "        if curr_a:\n",
    "            curr_a = curr_a.next\n",
    "        if curr_b:\n",
    "            curr_b = curr_b.next\n",
    "    if carry:\n",
    "        curr = ListNode(carry)\n",
    "        prev.next = curr\n",
    "    new_head = reverse_linked_list(new_head)\n",
    "    # reverse the inputed lists back, try to avoid side effects\n",
    "    reverse_linked_list(new_a)\n",
    "    reverse_linked_list(new_b)\n",
    "    return new_head\n",
    "\n",
    "\n",
    "def reverse_linked_list(head):\n",
    "    \"\"\"reverse linked list, tail becomes head and new head is returned\n",
    "    \"\"\"\n",
    "    if head is None:\n",
    "        return None\n",
    "    curr, prev = head, None\n",
    "    while curr is not None:\n",
    "        tmp = curr\n",
    "        curr = curr.next\n",
    "        tmp.next = prev\n",
    "        prev = tmp\n",
    "    return prev\n",
    "\n",
    "def add_list_elem(in1, in2, carry):\n",
    "    \"\"\"addition of two nodes with carry_in and carry_out\n",
    "    \"\"\"\n",
    "    in1_val = in1.value if in1 else 0\n",
    "    in2_val = in2.value if in2 else 0\n",
    "    tmp = in1_val + in2_val + carry\n",
    "    return ListNode(tmp % 10000), tmp // 10000\n"
   ]
  }
 ],
 "metadata": {
  "kernelspec": {
   "display_name": "Python 3",
   "language": "python",
   "name": "python3"
  },
  "language_info": {
   "codemirror_mode": {
    "name": "ipython",
    "version": 3
   },
   "file_extension": ".py",
   "mimetype": "text/x-python",
   "name": "python",
   "nbconvert_exporter": "python",
   "pygments_lexer": "ipython3",
   "version": "3.6.5"
  }
 },
 "nbformat": 4,
 "nbformat_minor": 2
}
