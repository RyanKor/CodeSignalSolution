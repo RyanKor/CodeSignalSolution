{
 "cells": [
  {
   "cell_type": "markdown",
   "metadata": {},
   "source": [
    "Note: Try to solve this task in O(n) time using O(1) additional space, where n is the number of elements in l, since this is what you'll be asked to do during an interview.\n",
    "\n",
    "Given a singly linked list of integers, determine whether or not it's a palindrome.\n",
    "\n",
    "### Example\n",
    "\n",
    "For `l = [0, 1, 0]`, the output should be\n",
    "`isListPalindrome(l) = true`;\n",
    "\n",
    "For `l = [1, 2, 2, 3]`, the output should be\n",
    "`isListPalindrome(l) = false`."
   ]
  },
  {
   "cell_type": "code",
   "execution_count": null,
   "metadata": {},
   "outputs": [],
   "source": [
    "# Definition for singly-linked list:\n",
    "# class ListNode(object):\n",
    "#   def __init__(self, x):\n",
    "#     self.value = x\n",
    "#     self.next = None\n",
    "#\n",
    "def isListPalindrome(l):\n",
    "    if l is None or l.next is None:\n",
    "        return True\n",
    "    tempHead = l\n",
    "    first = None\n",
    "    second = l\n",
    "    p = l\n",
    "    while p is not None:\n",
    "        if p.next is None:\n",
    "            second = second.next\n",
    "            break\n",
    "        p = p.next.next\n",
    "        tempHead = second.next\n",
    "        second.next = first\n",
    "        first = second\n",
    "        second = tempHead\n",
    "        \n",
    "    while first:\n",
    "        if first.value != second.value:\n",
    "            return False\n",
    "        first = first.next\n",
    "        second = second.next\n",
    "        \n",
    "    return True"
   ]
  }
 ],
 "metadata": {
  "kernelspec": {
   "display_name": "Python 3",
   "language": "python",
   "name": "python3"
  },
  "language_info": {
   "codemirror_mode": {
    "name": "ipython",
    "version": 3
   },
   "file_extension": ".py",
   "mimetype": "text/x-python",
   "name": "python",
   "nbconvert_exporter": "python",
   "pygments_lexer": "ipython3",
   "version": "3.6.5"
  }
 },
 "nbformat": 4,
 "nbformat_minor": 2
}
