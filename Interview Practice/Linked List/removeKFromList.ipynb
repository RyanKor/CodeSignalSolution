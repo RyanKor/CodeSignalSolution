{
 "cells": [
  {
   "cell_type": "markdown",
   "metadata": {},
   "source": [
    "Note: Try to solve this task in O(n) time using O(1) additional space, where n is the number of elements in the list, since this is what you'll be asked to do during an interview.\n",
    "\n",
    "Given a singly linked list of integers l and an integer k, remove all elements from list l that have a value equal to k.\n",
    "\n",
    "### Example\n",
    "\n",
    "For `l = [3, 1, 2, 3, 4, 5] and k = 3`, the output should be\n",
    "`removeKFromList(l, k) = [1, 2, 4, 5]`\n",
    "\n",
    "For `l = [1, 2, 3, 4, 5, 6, 7] and k = 10`, the output should be\n",
    "`removeKFromList(l, k) = [1, 2, 3, 4, 5, 6, 7]`."
   ]
  },
  {
   "cell_type": "code",
   "execution_count": null,
   "metadata": {},
   "outputs": [],
   "source": [
    "# Definition for singly-linked list:\n",
    "# class ListNode(object):\n",
    "#   def __init__(self, x):\n",
    "#     self.value = x\n",
    "#     self.next = None\n",
    "#\n",
    "def removeKFromList(l, k):\n",
    "    if l is None: #If list 'l' is empty, then you cannot search k from the list.\n",
    "        return l\n",
    "    elif l.value == k: # It means [1,2,3,4,5] here, if k = 3, then you connect 2 with 4.\n",
    "        l = l.next\n",
    "    \n",
    "    currentCursor = l # When I use LinkedList, I think I must need cursor to search k.\n",
    "    \n",
    "    while currentCursor is not None and currentCursor.next is not None: #cursor's value must exist.\n",
    "        if currentCursor.next.value == k:\n",
    "            currentCursor.next = currentCursor.next.next\n",
    "        else:\n",
    "            currentCursor = currentCursor.next\n",
    "            \n",
    "    if currentCursor is not None and currentCursor.value == k:\n",
    "        l = l.next\n",
    "        \n",
    "    return l"
   ]
  }
 ],
 "metadata": {
  "kernelspec": {
   "display_name": "Python 3",
   "language": "python",
   "name": "python3"
  },
  "language_info": {
   "codemirror_mode": {
    "name": "ipython",
    "version": 3
   },
   "file_extension": ".py",
   "mimetype": "text/x-python",
   "name": "python",
   "nbconvert_exporter": "python",
   "pygments_lexer": "ipython3",
   "version": "3.6.5"
  }
 },
 "nbformat": 4,
 "nbformat_minor": 2
}
