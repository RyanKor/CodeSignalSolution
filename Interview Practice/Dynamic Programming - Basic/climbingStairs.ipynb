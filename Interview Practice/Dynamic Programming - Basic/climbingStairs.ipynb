{
 "cells": [
  {
   "cell_type": "markdown",
   "metadata": {},
   "source": [
    "You are climbing a staircase that has n steps. You can take the steps either 1 or 2 at a time. Calculate how many distinct ways you can climb to the top of the staircase.\n",
    "\n",
    "### Example\n",
    "\n",
    "For `n = 1`, the output should be\n",
    "`climbingStairs(n) = 1`;\n",
    "\n",
    "For `n = 2`, the output should be\n",
    "`climbingStairs(n) = 2`.\n",
    "\n",
    "You can either climb 2 steps at once or climb 1 step two times."
   ]
  },
  {
   "cell_type": "code",
   "execution_count": null,
   "metadata": {},
   "outputs": [],
   "source": [
    "def climbingStairs(n):\n",
    "    memo = []\n",
    "    memo.append(0)\n",
    "    memo.append(1)\n",
    "    memo.append(2)\n",
    "                \n",
    "#     print(memo)\n",
    "    if n>=3:\n",
    "        for i in range(3,n+1):\n",
    "            memo.append(memo[i-1] + memo[i-2])   \n",
    "            \n",
    "    return memo[n]"
   ]
  }
 ],
 "metadata": {
  "kernelspec": {
   "display_name": "Python 3",
   "language": "python",
   "name": "python3"
  },
  "language_info": {
   "codemirror_mode": {
    "name": "ipython",
    "version": 3
   },
   "file_extension": ".py",
   "mimetype": "text/x-python",
   "name": "python",
   "nbconvert_exporter": "python",
   "pygments_lexer": "ipython3",
   "version": "3.6.5"
  }
 },
 "nbformat": 4,
 "nbformat_minor": 2
}
